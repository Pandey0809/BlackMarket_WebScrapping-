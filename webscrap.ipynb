{
 "cells": [
  {
   "cell_type": "code",
   "execution_count": 140,
   "metadata": {},
   "outputs": [
    {
     "name": "stdout",
     "output_type": "stream",
     "text": [
      "Requirement already satisfied: bs4 in /Users/hp/opt/anaconda3/envs/myenv/lib/python3.9/site-packages (0.0.1)\n",
      "Requirement already satisfied: beautifulsoup4 in /Users/hp/opt/anaconda3/envs/myenv/lib/python3.9/site-packages (from bs4) (4.12.0)\n",
      "Requirement already satisfied: soupsieve>1.2 in /Users/hp/opt/anaconda3/envs/myenv/lib/python3.9/site-packages (from beautifulsoup4->bs4) (2.4)\n",
      "Requirement already satisfied: pandas in /Users/hp/opt/anaconda3/envs/myenv/lib/python3.9/site-packages (1.5.2)\n",
      "Requirement already satisfied: python-dateutil>=2.8.1 in /Users/hp/opt/anaconda3/envs/myenv/lib/python3.9/site-packages (from pandas) (2.8.2)\n",
      "Requirement already satisfied: pytz>=2020.1 in /Users/hp/opt/anaconda3/envs/myenv/lib/python3.9/site-packages (from pandas) (2022.7)\n",
      "Requirement already satisfied: numpy>=1.20.3 in /Users/hp/opt/anaconda3/envs/myenv/lib/python3.9/site-packages (from pandas) (1.23.5)\n",
      "Requirement already satisfied: six>=1.5 in /Users/hp/opt/anaconda3/envs/myenv/lib/python3.9/site-packages (from python-dateutil>=2.8.1->pandas) (1.16.0)\n",
      "Requirement already satisfied: requests in /Users/hp/opt/anaconda3/envs/myenv/lib/python3.9/site-packages (2.28.2)\n",
      "Requirement already satisfied: certifi>=2017.4.17 in /Users/hp/opt/anaconda3/envs/myenv/lib/python3.9/site-packages (from requests) (2022.12.7)\n",
      "Requirement already satisfied: urllib3<1.27,>=1.21.1 in /Users/hp/opt/anaconda3/envs/myenv/lib/python3.9/site-packages (from requests) (1.26.15)\n",
      "Requirement already satisfied: idna<4,>=2.5 in /Users/hp/opt/anaconda3/envs/myenv/lib/python3.9/site-packages (from requests) (3.4)\n",
      "Requirement already satisfied: charset-normalizer<4,>=2 in /Users/hp/opt/anaconda3/envs/myenv/lib/python3.9/site-packages (from requests) (3.1.0)\n",
      "Requirement already satisfied: numpy in /Users/hp/opt/anaconda3/envs/myenv/lib/python3.9/site-packages (1.23.5)\n"
     ]
    }
   ],
   "source": [
    "#libraries needed for this code run\n",
    "!pip install bs4\n",
    "!pip install pandas\n",
    "!pip install requests\n",
    "!pip install numpy"
   ]
  },
  {
   "cell_type": "code",
   "execution_count": 141,
   "metadata": {},
   "outputs": [],
   "source": [
    "#imports libraries\n",
    "#beautiful soup for pulling data out of HTML and XML files\n",
    "from bs4 import BeautifulSoup\n",
    "# requests to use a get request\n",
    "import requests\n",
    "#pandas to store data in a dataframe\n",
    "import pandas as pd\n",
    "#numpy to deal with nan data\n",
    "import numpy as np"
   ]
  },
  {
   "cell_type": "code",
   "execution_count": 149,
   "metadata": {},
   "outputs": [],
   "source": [
    "# Function to extract Product Title\n",
    "def get_title(soup):\n",
    "    try:\n",
    "        # Outer Tag Object\n",
    "        title = new_soup.find(\"h1\",attrs={'class':'title-1'})\n",
    "        \n",
    "        # Inner NavigatableString Object\n",
    "        title_value = title.text\n",
    "\n",
    "        # Title as a string value\n",
    "        title_string = title_value.split('\\n')[1].strip()+title_value.split('\\n')[3].strip()\n",
    "        \n",
    "    except AttributeError:\n",
    "        title_string = \"\"\n",
    "\n",
    "    return title_string\n",
    "\n",
    "# Function to extract Original price\n",
    "def get_OriginalPrice(soup):\n",
    "    try:\n",
    "        \n",
    "        OriginalPrice = new_soup.find(\"span\",attrs={'class':'body-1-light-striked flex items-end mr-2 cursor-pointer'}).text.strip()\n",
    "\n",
    "    except AttributeError:\n",
    "        OriginalPrice = \"Not Available\"\t\n",
    "\n",
    "    return OriginalPrice    \n",
    "\n",
    "# Function to extract Current Product Price\n",
    "def get_price(soup):\n",
    "\n",
    "    try:\n",
    "        price = new_soup.find(\"div\",attrs={'class':'text-primary'}).text.strip()\n",
    "\n",
    "    except AttributeError:\n",
    "            price = \"\"\n",
    "\n",
    "    return price\n",
    "\n",
    "# Function to extract Product Rating\n",
    "def get_rating(soup):\n",
    "\n",
    "    try:\n",
    "        rating = new_soup.find(\"span\",attrs={'class':\"ml-1 text-primary body-2-bold\"}).text.strip()\n",
    "    \n",
    "    except AttributeError:\n",
    "            rating = \"\"\t\n",
    "\n",
    "    return rating\n",
    "\n",
    "# Function to extract Number of User Reviews\n",
    "def get_review_count(soup):\n",
    "    try:\n",
    "        review_count = soup.find(\"span\", attrs={'class':'ml-2 body-2-bold underline _1HL64gTNKr5pbdUa5n9_1Y'}).string.strip()\n",
    "\n",
    "    except AttributeError:\n",
    "        review_count = \"\"\t\n",
    "\n",
    "    return review_count\n",
    "\n",
    "\n"
   ]
  },
  {
   "cell_type": "code",
   "execution_count": 150,
   "metadata": {},
   "outputs": [
    {
     "name": "stdout",
     "output_type": "stream",
     "text": [
      "200\n"
     ]
    }
   ],
   "source": [
    "if __name__ == '__main__':\n",
    "\n",
    "    # add your user agent \n",
    "    Headers = ({'User-Agent':'Mozilla/5.0 (Macintosh; Intel Mac OS X 10_15_7) AppleWebKit/537.36 (KHTML, like Gecko) Chrome/112.0.0.0 Safari/537.36'\n",
    "    })\n",
    "\n",
    "    # The webpage URL\n",
    "    URL = \"https://www.backmarket.nl/nl-nl/l/iphone/aabc736a-cb66-4ac0-a3b7-0f449781ed39?gclid=Cj0KCQjwi46iBhDyARIsAE3nVral_leWXn8KOG6hlma7u3b1tTQ2Eg6-xAYr9YJHhQsKzaQELmiwEd8aAuzaEALw_wcB\"\n",
    "    \n",
    "    # HTTP Request\n",
    "    webpage = requests.get(URL, headers=Headers)\n",
    "    \n",
    "    #status code 200 means our request was accepted\n",
    "    print(webpage.status_code)\n",
    "    \n",
    "    # Soup Object containing all data\n",
    "    soup = BeautifulSoup(webpage.content, \"html.parser\")\n",
    "    \n",
    "    # Fetch links as List of Tag Objects\n",
    "    links = soup.find_all(\"a\",attrs={'class':'focus:outline-none group md:box-border relative'})\n",
    "\n",
    "    # Store the links\n",
    "    links_list = []\n",
    "        # Loop for extracting links from Tag Objects\n",
    "    for link in links:\n",
    "            links_list.append(link.get('href'))\n",
    "\n",
    "    d = {\"title\":[], \"Original Price\":[],\"Current Price\":[] ,\"rating\":[], \"reviews\":[]}\n",
    "    \n",
    "    # Loop for extracting product details from each link \n",
    "    for link in links_list:\n",
    "        new_webpage = requests.get(\"https://www.backmarket.nl\" + link, headers=Headers)\n",
    "\n",
    "        new_soup = BeautifulSoup(new_webpage.content, \"html.parser\")\n",
    "\n",
    "        # Function calls to display all necessary product information\n",
    "        d['title'].append(get_title(new_soup))\n",
    "        d['Original Price'].append(get_OriginalPrice(new_soup))\n",
    "        d['Current Price'].append(get_price(new_soup))\n",
    "        d['rating'].append(get_rating(new_soup))\n",
    "        d['reviews'].append(get_review_count(new_soup))\n",
    "\n",
    "    \n",
    "        amazon_df = pd.DataFrame.from_dict(d)\n",
    "        amazon_df['title'].replace('', np.nan, inplace=True)\n",
    "        amazon_df = amazon_df.dropna(subset=['title'])\n",
    "        amazon_df.to_csv(\"amazon_data.csv\", header=True, index=False)"
   ]
  },
  {
   "cell_type": "code",
   "execution_count": 135,
   "metadata": {},
   "outputs": [],
   "source": []
  }
 ],
 "metadata": {
  "interpreter": {
   "hash": "30485a54b51dbdee9505aa14e8a9cfe9bb86a60c93c9f50cf6569927ed3dca71"
  },
  "kernelspec": {
   "display_name": "Python 3.9.9 ('projectenv': venv)",
   "language": "python",
   "name": "python3"
  },
  "language_info": {
   "codemirror_mode": {
    "name": "ipython",
    "version": 3
   },
   "file_extension": ".py",
   "mimetype": "text/x-python",
   "name": "python",
   "nbconvert_exporter": "python",
   "pygments_lexer": "ipython3",
   "version": "3.9.16"
  },
  "orig_nbformat": 4
 },
 "nbformat": 4,
 "nbformat_minor": 2
}
